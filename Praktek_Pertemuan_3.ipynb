{
  "nbformat": 4,
  "nbformat_minor": 0,
  "metadata": {
    "colab": {
      "provenance": [],
      "toc_visible": true,
      "authorship_tag": "ABX9TyOoL0oZe02QegY9HfTIutfY",
      "include_colab_link": true
    },
    "kernelspec": {
      "name": "python3",
      "display_name": "Python 3"
    },
    "language_info": {
      "name": "python"
    }
  },
  "cells": [
    {
      "cell_type": "markdown",
      "metadata": {
        "id": "view-in-github",
        "colab_type": "text"
      },
      "source": [
        "<a href=\"https://colab.research.google.com/github/Farhat1702/Ngobar-python/blob/main/Praktek_Pertemuan_3.ipynb\" target=\"_parent\"><img src=\"https://colab.research.google.com/assets/colab-badge.svg\" alt=\"Open In Colab\"/></a>"
      ]
    },
    {
      "cell_type": "markdown",
      "source": [
        "# Pertemuan 3"
      ],
      "metadata": {
        "id": "WvlQyFNYkZh-"
      }
    },
    {
      "cell_type": "markdown",
      "source": [
        "Soal 1"
      ],
      "metadata": {
        "id": "dMm8XUxSkink"
      }
    },
    {
      "cell_type": "code",
      "execution_count": null,
      "metadata": {
        "colab": {
          "base_uri": "https://localhost:8080/"
        },
        "id": "-4wdgQqLShUG",
        "outputId": "22e00f83-3ae3-4ab1-8712-b5508e5e83d8"
      },
      "outputs": [
        {
          "output_type": "stream",
          "name": "stdout",
          "text": [
            "Hari Ini Adalah Hari Ketiga Saya Mengikuti Kegiatan Ngobar\n",
            "Hari I\n",
            "gobar\n",
            "Ketiga\n",
            "rabogN nataigeK itukigneM ayaS agiteK iraH haladA inI iraH\n"
          ]
        }
      ],
      "source": [
        "sliceing_string= \"Hari Ini Adalah Hari Ketiga Saya Mengikuti Kegiatan Ngobar\"\n",
        "print(sliceing_string)\n",
        "\n",
        "print(sliceing_string[:6])\n",
        "print(sliceing_string[-5:])\n",
        "print(sliceing_string[21:27])\n",
        "print(sliceing_string[::-1])"
      ]
    },
    {
      "cell_type": "markdown",
      "source": [
        "Soal 2"
      ],
      "metadata": {
        "id": "7k1ut0XFeLIK"
      }
    },
    {
      "cell_type": "code",
      "source": [
        "kata1 = \"Kalimatnya\"\n",
        "kata2 = \"Terserah\"\n",
        "kata3 = \"Kalian\"\n",
        "\n",
        "hasil = kata1 + \" \" + kata2 + \" \" + kata3\n",
        "print(hasil)\n",
        "\n",
        "hasil_fstring = f\"{kata1} {kata2} {kata3}\"\n",
        "print(hasil_fstring)\n",
        "\n",
        "daftar_kata = [kata1, kata2, kata3]\n",
        "hasil_join = \" \".join(daftar_kata)\n",
        "print(hasil_join)"
      ],
      "metadata": {
        "colab": {
          "base_uri": "https://localhost:8080/"
        },
        "id": "KMBWVwYqVf5E",
        "outputId": "88604d78-c276-4ce6-a204-28f1103db3fa"
      },
      "execution_count": null,
      "outputs": [
        {
          "output_type": "stream",
          "name": "stdout",
          "text": [
            "Kalimatnya Terserah Kalian\n",
            "Kalimatnya Terserah Kalian\n",
            "Kalimatnya Terserah Kalian\n"
          ]
        }
      ]
    },
    {
      "cell_type": "markdown",
      "source": [
        "Soal 3"
      ],
      "metadata": {
        "id": "1yOsbxMseW7Z"
      }
    },
    {
      "cell_type": "code",
      "source": [
        "text_soal= \"aku adalah seorang kapten dari sebuah tim sepak bola liga 3 liga belgia\"\n",
        "print(text_soal)\n",
        "\n",
        "def hitung_karakter(teks):\n",
        "  return len(teks)\n",
        "\n",
        "def hitung_kata(teks):\n",
        "  kata = teks.split()\n",
        "  return len(kata)\n",
        "\n",
        "jumlah_karakter = hitung_karakter(text_soal)\n",
        "jumlah_kata = hitung_kata(text_soal)\n",
        "\n",
        "print(\"jumlah karakter:\", jumlah_karakter)\n",
        "print(\"jumlah kata:\", jumlah_kata)"
      ],
      "metadata": {
        "colab": {
          "base_uri": "https://localhost:8080/"
        },
        "id": "EM6LSfErXgzU",
        "outputId": "3a73f4ab-42e3-418b-d8db-61fb220a00fb"
      },
      "execution_count": null,
      "outputs": [
        {
          "output_type": "stream",
          "name": "stdout",
          "text": [
            "aku adalah seorang kapten dari sebuah tim sepak bola liga 3 liga belgia\n",
            "jumlah karakter: 71\n",
            "jumlah kata: 13\n"
          ]
        }
      ]
    },
    {
      "cell_type": "markdown",
      "source": [
        "Soal 4"
      ],
      "metadata": {
        "id": "nR3owUd8eZNK"
      }
    },
    {
      "cell_type": "code",
      "source": [
        "import numpy as np\n",
        "\n",
        "# 1. Buat array seperti yang ditunjukkan\n",
        "arr = np.array([1, 5, 2, 9, 7, 3])\n",
        "\n",
        "# 2. Hitung nilai rata-rata, nilai minimum, dan nilai maksimum\n",
        "mean_value = np.mean(arr)\n",
        "min_value = np.min(arr)\n",
        "max_value = np.max(arr)\n",
        "\n",
        "# 3. Tampilkan hasil perhitungan\n",
        "print(\"Nilai rata-rata:\", mean_value)\n",
        "print(\"Nilai minimum:\", min_value)\n",
        "print(\"Nilai maksimum:\", max_value)\n"
      ],
      "metadata": {
        "colab": {
          "base_uri": "https://localhost:8080/"
        },
        "id": "TXpMp-K4Zgmm",
        "outputId": "47788e5e-e769-4a28-bc54-4e009864c403"
      },
      "execution_count": null,
      "outputs": [
        {
          "output_type": "stream",
          "name": "stdout",
          "text": [
            "Nilai rata-rata: 4.5\n",
            "Nilai minimum: 1\n",
            "Nilai maksimum: 9\n"
          ]
        }
      ]
    },
    {
      "cell_type": "markdown",
      "source": [
        "# Final Project"
      ],
      "metadata": {
        "id": "yiY4F-zdk8Pj"
      }
    },
    {
      "cell_type": "code",
      "source": [
        "import numpy as np\n",
        "\n",
        "def input_data_siswa():\n",
        "  nama = input(\"Masukkan nama siswa: \")\n",
        "  nim = input(\"Masukkan NIM siswa: \")\n",
        "  jurusan = input(\"Masukkan jurusan siswa: \")\n",
        "  nilai = float(input(\"Masukkan nilai siswa: \"))\n",
        "  return {\"nama\": nama, \"nim\": nim, \"jurusan\": jurusan, \"nilai\": nilai}\n",
        "\n",
        "def tampilkan_data_siswa(data_siswa):\n",
        "  if not data_siswa:\n",
        "    print(\"Belum ada data siswa yang dimasukkan.\")\n",
        "    return\n",
        "  for siswa in data_siswa:\n",
        "    print(f\"Nama: {siswa['nama']}, NIM: {siswa['nim']}, Jurusan: {siswa['jurusan']}, Nilai: {siswa['nilai']}\")\n",
        "\n",
        "def cari_siswa(data_siswa, nim):\n",
        "  for siswa in data_siswa:\n",
        "    if siswa[\"nim\"] == nim:\n",
        "      print(f\"Nama: {siswa['nama']}, NIM: {siswa['nim']}, Jurusan: {siswa['jurusan']}, Nilai: {siswa['nilai']}\")\n",
        "      return\n",
        "  print(\"Siswa tidak ditemukan.\")\n",
        "\n",
        "def hitung_rata_rata_nilai(data_siswa):\n",
        "  if not data_siswa:\n",
        "    print(\"Belum ada data siswa yang dimasukkan.\")\n",
        "    return 0\n",
        "  total_nilai = sum(siswa['nilai'] for siswa in data_siswa)\n",
        "  return total_nilai / len(data_siswa)\n",
        "\n",
        "data_siswa = []\n",
        "\n",
        "while True:\n",
        "  print(\"\\nMenu:\")\n",
        "  print(\"1. Tambah data siswa\")\n",
        "  print(\"2. Tampilkan semua data siswa\")\n",
        "  print(\"3. Cari siswa berdasarkan NIM\")\n",
        "  print(\"4. Hitung rata-rata nilai\")\n",
        "  print(\"5. Keluar\")\n",
        "\n",
        "  pilihan = input(\"Masukkan pilihan Anda: \")\n",
        "\n",
        "  if pilihan == \"1\":\n",
        "    data_siswa.append(input_data_siswa())\n",
        "  elif pilihan == \"2\":\n",
        "    tampilkan_data_siswa(data_siswa)\n",
        "  elif pilihan == \"3\":\n",
        "    nim = input(\"Masukkan NIM siswa yang dicari: \")\n",
        "    cari_siswa(data_siswa, nim)\n",
        "  elif pilihan == \"4\":\n",
        "    rata_rata = hitung_rata_rata_nilai(data_siswa)\n",
        "    if rata_rata != 0:\n",
        "        print(f\"Rata-rata nilai siswa: {rata_rata}\")\n",
        "  elif pilihan == \"5\":\n",
        "    break\n",
        "  else:\n",
        "    print(\"Pilihan tidak valid.\")"
      ],
      "metadata": {
        "id": "65EBtk2nmHZy"
      },
      "execution_count": null,
      "outputs": []
    }
  ]
}